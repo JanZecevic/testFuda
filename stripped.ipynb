{
 "cells": [
  {
   "cell_type": "code",
   "execution_count": null,
   "id": "013775f7",
   "metadata": {},
   "outputs": [],
   "source": [
    "print(\"Hello Jan!\")\n"
   ]
  }
 ],
 "metadata": {
  "language_info": {
   "name": "python",
   "pygments_lexer": "ipython3"
  }
 },
 "nbformat": 4,
 "nbformat_minor": 5
}
